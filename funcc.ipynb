{
 "cells": [
  {
   "cell_type": "code",
   "execution_count": 1,
   "metadata": {},
   "outputs": [],
   "source": [
    "def functionku():\n",
    "    print(\"hello saya\")"
   ]
  },
  {
   "cell_type": "code",
   "execution_count": 4,
   "metadata": {},
   "outputs": [
    {
     "name": "stdout",
     "output_type": "stream",
     "text": [
      "hello saya\n"
     ]
    }
   ],
   "source": [
    "def functionku():\n",
    "    print(\"hello saya\")\n",
    "\n",
    "functionku()"
   ]
  },
  {
   "cell_type": "code",
   "execution_count": 8,
   "metadata": {},
   "outputs": [
    {
     "name": "stdout",
     "output_type": "stream",
     "text": [
      "ini adalah BUdiono \n"
     ]
    }
   ],
   "source": [
    "def namafungsi(parameter):\n",
    "    print(f\"ini adalah {parameter} \")\n",
    "\n",
    "namafungsi(\"BUdiono\")"
   ]
  },
  {
   "cell_type": "code",
   "execution_count": 9,
   "metadata": {},
   "outputs": [
    {
     "data": {
      "text/plain": [
       "96"
      ]
     },
     "execution_count": 9,
     "metadata": {},
     "output_type": "execute_result"
    }
   ],
   "source": [
    "def hitung_luas_persegi_panjang(panjang, lebar):\n",
    "    luas = panjang * lebar\n",
    "    return luas\n",
    "\n",
    "hitung_luas_persegi_panjang(12, 8)"
   ]
  },
  {
   "cell_type": "code",
   "execution_count": 11,
   "metadata": {},
   "outputs": [
    {
     "name": "stdout",
     "output_type": "stream",
     "text": [
      "halo namaku andi\n",
      "halo namaku fauzul\n",
      "halo namaku taufiq\n"
     ]
    }
   ],
   "source": [
    "def perkenalan(nama):\n",
    "    print(\"halo namaku \" + nama)\n",
    "\n",
    "perkenalan(\"andi\")\n",
    "perkenalan(\"fauzul\")\n",
    "perkenalan(\"taufiq\")\n"
   ]
  },
  {
   "cell_type": "code",
   "execution_count": 14,
   "metadata": {},
   "outputs": [
    {
     "name": "stdout",
     "output_type": "stream",
     "text": [
      "sapta ariski irvan fauzul None\n"
     ]
    }
   ],
   "source": [
    "def asprak_algo(asprak):\n",
    "    for i in asprak:\n",
    "        print(i, end=' ')\n",
    "\n",
    "list_asprak = [\"sapta\", \"ariski\",\"irvan\",\"fauzul\"]\n",
    "\n",
    "print(asprak_algo(list_asprak))"
   ]
  },
  {
   "cell_type": "code",
   "execution_count": 17,
   "metadata": {},
   "outputs": [
    {
     "data": {
      "text/plain": [
       "97782048"
      ]
     },
     "execution_count": 17,
     "metadata": {},
     "output_type": "execute_result"
    }
   ],
   "source": [
    "def hitung_luas_balok(panjang, lebar, tinggi):\n",
    "    volume = panjang * lebar * tinggi\n",
    "    return volume\n",
    "\n",
    "panjang = int(input())\n",
    "lebar = int(input())\n",
    "tinggi = int(input())\n",
    "hitung_luas_balok(panjang, lebar, tinggi)\n",
    "\n",
    "def hitung_luas_balok2(panjang2, lebar2, tinggi2):\n",
    "    volume2 = panjang * lebar * tinggi\n",
    "    return volume2\n",
    "hitung_luas_balok(728, 234, 574)"
   ]
  },
  {
   "cell_type": "code",
   "execution_count": null,
   "metadata": {},
   "outputs": [
    {
     "data": {
      "text/plain": [
       "'hitam'"
      ]
     },
     "execution_count": 20,
     "metadata": {},
     "output_type": "execute_result"
    }
   ],
   "source": [
    "def warna_favorit(warna = \"ungu\"):\n",
    "    return warna\n",
    "    print(\"merah\")\n",
    "\n",
    "warna_favorit()\n",
    "warna_favorit(\"merah\")\n",
    "warna_favorit(\"hitam\")"
   ]
  },
  {
   "cell_type": "code",
   "execution_count": 22,
   "metadata": {},
   "outputs": [
    {
     "name": "stdout",
     "output_type": "stream",
     "text": [
      "ariski berteman dengansapta, athar gak dianggap\n"
     ]
    }
   ],
   "source": [
    "def cinta_sejati(aku, kamu, dia = \"\"):\n",
    "    print(f\"{aku} berteman dengan{kamu}, {dia} gak dianggap\")\n",
    "cinta_sejati(kamu=\"sapta\",aku=\"ariski\",dia=\"athar\")"
   ]
  },
  {
   "cell_type": "code",
   "execution_count": 23,
   "metadata": {},
   "outputs": [
    {
     "ename": "NameError",
     "evalue": "name 'tidak_ada_return' is not defined",
     "output_type": "error",
     "traceback": [
      "\u001b[1;31m---------------------------------------------------------------------------\u001b[0m",
      "\u001b[1;31mNameError\u001b[0m                                 Traceback (most recent call last)",
      "Cell \u001b[1;32mIn[23], line 4\u001b[0m\n\u001b[0;32m      1\u001b[0m \u001b[38;5;28;01mdef\u001b[39;00m \u001b[38;5;21mdengan_return\u001b[39m(a, b):\n\u001b[0;32m      2\u001b[0m     \u001b[38;5;28;01mreturn\u001b[39;00m a \u001b[38;5;241m+\u001b[39m b\n\u001b[1;32m----> 4\u001b[0m \u001b[43mtidak_ada_return\u001b[49m(\u001b[38;5;241m10\u001b[39m,\u001b[38;5;241m11\u001b[39m)\n\u001b[0;32m      6\u001b[0m \u001b[38;5;28mprint\u001b[39m(tidak_ada_return(\u001b[38;5;241m10\u001b[39m,\u001b[38;5;241m11\u001b[39m))\n",
      "\u001b[1;31mNameError\u001b[0m: name 'tidak_ada_return' is not defined"
     ]
    }
   ],
   "source": [
    "def dengan_return(a, b):\n",
    "    return a + b\n",
    "\n",
    "tidak_ada_return(10,11)\n",
    "\n",
    "print(tidak_ada_return(10,11))"
   ]
  },
  {
   "cell_type": "code",
   "execution_count": null,
   "metadata": {},
   "outputs": [],
   "source": [
    "Variable_Global = \"ini variabel global\"\n",
    "\n",
    "def sebuahfungsi():\n",
    "    global Variable_Global\n",
    "    Variabel_Global = \"ini variabel lokal\"\n",
    "\n",
    "print(Variable_Global)\n",
    "\n",
    "sebuahfungsi()"
   ]
  },
  {
   "cell_type": "code",
   "execution_count": null,
   "metadata": {},
   "outputs": [],
   "source": []
  }
 ],
 "metadata": {
  "kernelspec": {
   "display_name": "Python 3",
   "language": "python",
   "name": "python3"
  },
  "language_info": {
   "codemirror_mode": {
    "name": "ipython",
    "version": 3
   },
   "file_extension": ".py",
   "mimetype": "text/x-python",
   "name": "python",
   "nbconvert_exporter": "python",
   "pygments_lexer": "ipython3",
   "version": "3.12.6"
  }
 },
 "nbformat": 4,
 "nbformat_minor": 2
}
